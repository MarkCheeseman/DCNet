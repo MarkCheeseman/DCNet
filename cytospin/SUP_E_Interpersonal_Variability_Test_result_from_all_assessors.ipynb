{
 "cells": [
  {
   "cell_type": "code",
   "execution_count": 1,
   "metadata": {},
   "outputs": [
    {
     "name": "stdout",
     "output_type": "stream",
     "text": [
      "Successfully loaded API key: eyJhbGciOi...\n"
     ]
    }
   ],
   "source": [
    "from collections import defaultdict\n",
    "from matplotlib.markers import MarkerStyle\n",
    "from pathlib import Path\n",
    "from nuclei.coco_exporter import *\n",
    "from nuclei.imports import *\n",
    "from nuclei.labelbox_utils import *\n",
    "import pandas as pd\n",
    "import json\n",
    "\n",
    "root_dir = Path('../../').absolute()\n",
    "\n",
    "from IPython.core.display import display, HTML"
   ]
  },
  {
   "cell_type": "code",
   "execution_count": 2,
   "metadata": {},
   "outputs": [],
   "source": [
    "project_names = ['IVT_CS', 'IVT_LB', 'IVT_LG', 'IVT_JS', 'IVT_KF']"
   ]
  },
  {
   "cell_type": "markdown",
   "metadata": {},
   "source": [
    "## Split annotations by class"
   ]
  },
  {
   "cell_type": "markdown",
   "metadata": {},
   "source": [
    "### Step 1: Read file from all assessors"
   ]
  },
  {
   "cell_type": "code",
   "execution_count": 12,
   "metadata": {},
   "outputs": [],
   "source": [
    "df_all = pd.read_json(Path(f'../../data/IVT/IVT_all.json'))\n",
    "df = df_all.T.copy(deep=True)\n",
    "df = df.drop(columns=['url', 'dataset'])\n",
    "df.reset_index(drop=True, inplace=True)"
   ]
  },
  {
   "cell_type": "code",
   "execution_count": 13,
   "metadata": {},
   "outputs": [
    {
     "data": {
      "text/plain": [
       "200"
      ]
     },
     "execution_count": 13,
     "metadata": {},
     "output_type": "execute_result"
    }
   ],
   "source": [
    "len(df)"
   ]
  },
  {
   "cell_type": "code",
   "execution_count": 14,
   "metadata": {
    "scrolled": true
   },
   "outputs": [
    {
     "data": {
      "text/html": [
       "<div>\n",
       "<style scoped>\n",
       "    .dataframe tbody tr th:only-of-type {\n",
       "        vertical-align: middle;\n",
       "    }\n",
       "\n",
       "    .dataframe tbody tr th {\n",
       "        vertical-align: top;\n",
       "    }\n",
       "\n",
       "    .dataframe thead th {\n",
       "        text-align: right;\n",
       "    }\n",
       "</style>\n",
       "<table border=\"1\" class=\"dataframe\">\n",
       "  <thead>\n",
       "    <tr style=\"text-align: right;\">\n",
       "      <th></th>\n",
       "      <th>file_name</th>\n",
       "      <th>IVT_CS</th>\n",
       "      <th>IVT_LB</th>\n",
       "      <th>IVT_LG</th>\n",
       "      <th>IVT_JS</th>\n",
       "      <th>IVT_KF</th>\n",
       "    </tr>\n",
       "  </thead>\n",
       "  <tbody>\n",
       "    <tr>\n",
       "      <th>0</th>\n",
       "      <td>T19_Da16.jpg</td>\n",
       "      <td>{'Macrophage': [{'geometry': {'x': 255, 'y': 894}}, {'geometry': {'x': 741, 'y': 55}}, {'geometry': {'x': 132, 'y': 203}}, {'geometry': {'x': 258, 'y': 385}}, {'geometry': {'x': 71, 'y': 54}}, {'geometry': {'x': 862, 'y': 561}}, {'geometry': {'x': 142, 'y': 733}}, {'geometry': {'x': 768, 'y': 353}}, {'geometry': {'x': 916, 'y': 263}}], 'Monocyte': [{'geometry': {'x': 387, 'y': 198}}, {'geometry': {'x': 226, 'y': 600}}], 'Eosinophil': [{'geometry': {'x': 555, 'y': 388}}, {'geometry': {'x': 594, 'y': 451}}, {'geometry': {'x': 163, 'y': 898}}], 'Lymphocyte': [{'geometry': {'x': 836, 'y': 474}...</td>\n",
       "      <td>{'Macrophage': [{'geometry': {'x': 239, 'y': 891}}, {'geometry': {'x': 860, 'y': 144}}], 'Monocyte': [{'geometry': {'x': 71, 'y': 46}}, {'geometry': {'x': 718, 'y': 948}}, {'geometry': {'x': 409, 'y': 695}}, {'geometry': {'x': 958, 'y': 900}}, {'geometry': {'x': 166, 'y': 736}}, {'geometry': {'x': 764, 'y': 358}}, {'geometry': {'x': 139, 'y': 203}}, {'geometry': {'x': 369, 'y': 403}}, {'geometry': {'x': 374, 'y': 205}}, {'geometry': {'x': 238, 'y': 599}}], 'Neutrophil': [{'geometry': {'x': 536, 'y': 379}}, {'geometry': {'x': 170, 'y': 898}}, {'geometry': {'x': 858, 'y': 742}}], 'Lymphocyte...</td>\n",
       "      <td>{'Macrophage': [{'geometry': {'x': 254, 'y': 902}}, {'geometry': {'x': 134, 'y': 196}}, {'geometry': {'x': 390, 'y': 190}}, {'geometry': {'x': 139, 'y': 729}}, {'geometry': {'x': 970, 'y': 884}}, {'geometry': {'x': 839, 'y': 474}}], 'Monocyte': [{'geometry': {'x': 226, 'y': 599}}, {'geometry': {'x': 725, 'y': 940}}, {'geometry': {'x': 385, 'y': 386}}], 'Neutrophil': [{'geometry': {'x': 550, 'y': 387}}, {'geometry': {'x': 163, 'y': 899}}], 'Eosinophil': [{'geometry': {'x': 592, 'y': 449}}], 'Lymphocyte': [{'geometry': {'x': 689, 'y': 389}}], 'Unknown cell': [{'geometry': {'x': 916, 'y': 261...</td>\n",
       "      <td>{'Macrophage': [{'geometry': {'x': 137, 'y': 737}}, {'geometry': {'x': 217, 'y': 593}}, {'geometry': {'x': 840, 'y': 165}}, {'geometry': {'x': 777, 'y': 346}}, {'geometry': {'x': 749, 'y': 51}}, {'geometry': {'x': 131, 'y': 201}}, {'geometry': {'x': 80, 'y': 63}}, {'geometry': {'x': 384, 'y': 389}}, {'geometry': {'x': 426, 'y': 700}}, {'geometry': {'x': 971, 'y': 886}}, {'geometry': {'x': 378, 'y': 183}}, {'geometry': {'x': 843, 'y': 463}}, {'geometry': {'x': 729, 'y': 963}}, {'geometry': {'x': 913, 'y': 451}}], 'Monocyte': [{'geometry': {'x': 768, 'y': 811}}], 'Neutrophil': [{'geometry': ...</td>\n",
       "      <td>Skip</td>\n",
       "    </tr>\n",
       "  </tbody>\n",
       "</table>\n",
       "</div>"
      ],
      "text/plain": [
       "      file_name  \\\n",
       "0  T19_Da16.jpg   \n",
       "\n",
       "                                                                                                                                                                                                                                                                                                                                                                                                                                                                                                                                                                                                                    IVT_CS  \\\n",
       "0  {'Macrophage': [{'geometry': {'x': 255, 'y': 894}}, {'geometry': {'x': 741, 'y': 55}}, {'geometry': {'x': 132, 'y': 203}}, {'geometry': {'x': 258, 'y': 385}}, {'geometry': {'x': 71, 'y': 54}}, {'geometry': {'x': 862, 'y': 561}}, {'geometry': {'x': 142, 'y': 733}}, {'geometry': {'x': 768, 'y': 353}}, {'geometry': {'x': 916, 'y': 263}}], 'Monocyte': [{'geometry': {'x': 387, 'y': 198}}, {'geometry': {'x': 226, 'y': 600}}], 'Eosinophil': [{'geometry': {'x': 555, 'y': 388}}, {'geometry': {'x': 594, 'y': 451}}, {'geometry': {'x': 163, 'y': 898}}], 'Lymphocyte': [{'geometry': {'x': 836, 'y': 474}...   \n",
       "\n",
       "                                                                                                                                                                                                                                                                                                                                                                                                                                                                                                                                                                                                                    IVT_LB  \\\n",
       "0  {'Macrophage': [{'geometry': {'x': 239, 'y': 891}}, {'geometry': {'x': 860, 'y': 144}}], 'Monocyte': [{'geometry': {'x': 71, 'y': 46}}, {'geometry': {'x': 718, 'y': 948}}, {'geometry': {'x': 409, 'y': 695}}, {'geometry': {'x': 958, 'y': 900}}, {'geometry': {'x': 166, 'y': 736}}, {'geometry': {'x': 764, 'y': 358}}, {'geometry': {'x': 139, 'y': 203}}, {'geometry': {'x': 369, 'y': 403}}, {'geometry': {'x': 374, 'y': 205}}, {'geometry': {'x': 238, 'y': 599}}], 'Neutrophil': [{'geometry': {'x': 536, 'y': 379}}, {'geometry': {'x': 170, 'y': 898}}, {'geometry': {'x': 858, 'y': 742}}], 'Lymphocyte...   \n",
       "\n",
       "                                                                                                                                                                                                                                                                                                                                                                                                                                                                                                                                                                                                                    IVT_LG  \\\n",
       "0  {'Macrophage': [{'geometry': {'x': 254, 'y': 902}}, {'geometry': {'x': 134, 'y': 196}}, {'geometry': {'x': 390, 'y': 190}}, {'geometry': {'x': 139, 'y': 729}}, {'geometry': {'x': 970, 'y': 884}}, {'geometry': {'x': 839, 'y': 474}}], 'Monocyte': [{'geometry': {'x': 226, 'y': 599}}, {'geometry': {'x': 725, 'y': 940}}, {'geometry': {'x': 385, 'y': 386}}], 'Neutrophil': [{'geometry': {'x': 550, 'y': 387}}, {'geometry': {'x': 163, 'y': 899}}], 'Eosinophil': [{'geometry': {'x': 592, 'y': 449}}], 'Lymphocyte': [{'geometry': {'x': 689, 'y': 389}}], 'Unknown cell': [{'geometry': {'x': 916, 'y': 261...   \n",
       "\n",
       "                                                                                                                                                                                                                                                                                                                                                                                                                                                                                                                                                                                                                    IVT_JS  \\\n",
       "0  {'Macrophage': [{'geometry': {'x': 137, 'y': 737}}, {'geometry': {'x': 217, 'y': 593}}, {'geometry': {'x': 840, 'y': 165}}, {'geometry': {'x': 777, 'y': 346}}, {'geometry': {'x': 749, 'y': 51}}, {'geometry': {'x': 131, 'y': 201}}, {'geometry': {'x': 80, 'y': 63}}, {'geometry': {'x': 384, 'y': 389}}, {'geometry': {'x': 426, 'y': 700}}, {'geometry': {'x': 971, 'y': 886}}, {'geometry': {'x': 378, 'y': 183}}, {'geometry': {'x': 843, 'y': 463}}, {'geometry': {'x': 729, 'y': 963}}, {'geometry': {'x': 913, 'y': 451}}], 'Monocyte': [{'geometry': {'x': 768, 'y': 811}}], 'Neutrophil': [{'geometry': ...   \n",
       "\n",
       "  IVT_KF  \n",
       "0   Skip  "
      ]
     },
     "execution_count": 14,
     "metadata": {},
     "output_type": "execute_result"
    }
   ],
   "source": [
    "df.head(1)"
   ]
  },
  {
   "cell_type": "markdown",
   "metadata": {},
   "source": [
    "### Optional: Filter by Assessor  (ie 'IVT_CS\")"
   ]
  },
  {
   "cell_type": "code",
   "execution_count": null,
   "metadata": {},
   "outputs": [],
   "source": [
    "df.dropna(subset=['IVT_CS'], inplace=True)"
   ]
  },
  {
   "cell_type": "code",
   "execution_count": null,
   "metadata": {},
   "outputs": [],
   "source": [
    "len(df)"
   ]
  },
  {
   "cell_type": "markdown",
   "metadata": {},
   "source": [
    "### Step 2: select a class"
   ]
  },
  {
   "cell_type": "markdown",
   "metadata": {},
   "source": [
    "lbl_key = ['Macrophage', 'Monocyte', 'Neutrophil', 'Eosinophil', 'Lymphocyte', 'Epithelial cell', 'Unknown cell']"
   ]
  },
  {
   "cell_type": "code",
   "execution_count": 6,
   "metadata": {},
   "outputs": [],
   "source": [
    "cl = 'Macrophage'"
   ]
  },
  {
   "cell_type": "code",
   "execution_count": 12,
   "metadata": {},
   "outputs": [],
   "source": [
    "cl = 'Monocyte'"
   ]
  },
  {
   "cell_type": "code",
   "execution_count": 18,
   "metadata": {},
   "outputs": [],
   "source": [
    "cl = 'Neutrophil'"
   ]
  },
  {
   "cell_type": "code",
   "execution_count": 24,
   "metadata": {},
   "outputs": [],
   "source": [
    "cl = 'Eosinophil'"
   ]
  },
  {
   "cell_type": "code",
   "execution_count": 30,
   "metadata": {},
   "outputs": [],
   "source": [
    "cl = 'Lymphocyte'"
   ]
  },
  {
   "cell_type": "code",
   "execution_count": 6,
   "metadata": {},
   "outputs": [],
   "source": [
    "cl = 'Epithelial cell'"
   ]
  },
  {
   "cell_type": "code",
   "execution_count": 15,
   "metadata": {},
   "outputs": [],
   "source": [
    "cl = 'Unknown cell'"
   ]
  },
  {
   "cell_type": "markdown",
   "metadata": {},
   "source": [
    "### Step 3: save a class in .csv format"
   ]
  },
  {
   "cell_type": "code",
   "execution_count": 16,
   "metadata": {},
   "outputs": [],
   "source": [
    "assessors = project_names\n",
    "\n",
    "cl_dict = {}\n",
    "for k, v in df.iterrows():\n",
    "    filename = df['file_name'][k]\n",
    "    tmp = []\n",
    "    for assessor in assessors:\n",
    "        try: \n",
    "            tmp.append(len(df[assessor][k][cl]))\n",
    "        except:\n",
    "            tmp.append(0)\n",
    "    cl_dict[filename] = tmp\n",
    "\n",
    "df = pd.DataFrame(cl_dict, index = assessors)\n",
    "\n",
    "df = df.T\n",
    "df.sort_index(inplace=True)\n",
    "df.columns.name = cl\n",
    "df.head(2)\n",
    "\n",
    "df.to_csv(Path(f'../../data/IVT/IVT_{cl}.csv'), index_label=cl)"
   ]
  },
  {
   "cell_type": "code",
   "execution_count": 17,
   "metadata": {},
   "outputs": [
    {
     "data": {
      "text/html": [
       "<div>\n",
       "<style scoped>\n",
       "    .dataframe tbody tr th:only-of-type {\n",
       "        vertical-align: middle;\n",
       "    }\n",
       "\n",
       "    .dataframe tbody tr th {\n",
       "        vertical-align: top;\n",
       "    }\n",
       "\n",
       "    .dataframe thead th {\n",
       "        text-align: right;\n",
       "    }\n",
       "</style>\n",
       "<table border=\"1\" class=\"dataframe\">\n",
       "  <thead>\n",
       "    <tr style=\"text-align: right;\">\n",
       "      <th>Unknown cell</th>\n",
       "      <th>IVT_CS</th>\n",
       "      <th>IVT_LB</th>\n",
       "      <th>IVT_LG</th>\n",
       "      <th>IVT_JS</th>\n",
       "      <th>IVT_KF</th>\n",
       "    </tr>\n",
       "  </thead>\n",
       "  <tbody>\n",
       "    <tr>\n",
       "      <th>T01_Da0.jpg</th>\n",
       "      <td>0</td>\n",
       "      <td>0</td>\n",
       "      <td>1</td>\n",
       "      <td>0</td>\n",
       "      <td>0</td>\n",
       "    </tr>\n",
       "    <tr>\n",
       "      <th>T01_Da1.jpg</th>\n",
       "      <td>0</td>\n",
       "      <td>0</td>\n",
       "      <td>0</td>\n",
       "      <td>0</td>\n",
       "      <td>0</td>\n",
       "    </tr>\n",
       "    <tr>\n",
       "      <th>T01_Da10.jpg</th>\n",
       "      <td>0</td>\n",
       "      <td>2</td>\n",
       "      <td>0</td>\n",
       "      <td>0</td>\n",
       "      <td>0</td>\n",
       "    </tr>\n",
       "    <tr>\n",
       "      <th>T01_Da11.jpg</th>\n",
       "      <td>0</td>\n",
       "      <td>2</td>\n",
       "      <td>2</td>\n",
       "      <td>0</td>\n",
       "      <td>0</td>\n",
       "    </tr>\n",
       "    <tr>\n",
       "      <th>T01_Da12.jpg</th>\n",
       "      <td>0</td>\n",
       "      <td>0</td>\n",
       "      <td>1</td>\n",
       "      <td>0</td>\n",
       "      <td>0</td>\n",
       "    </tr>\n",
       "    <tr>\n",
       "      <th>T01_Da13.jpg</th>\n",
       "      <td>0</td>\n",
       "      <td>0</td>\n",
       "      <td>1</td>\n",
       "      <td>0</td>\n",
       "      <td>0</td>\n",
       "    </tr>\n",
       "    <tr>\n",
       "      <th>T01_Da14.jpg</th>\n",
       "      <td>0</td>\n",
       "      <td>0</td>\n",
       "      <td>0</td>\n",
       "      <td>0</td>\n",
       "      <td>0</td>\n",
       "    </tr>\n",
       "    <tr>\n",
       "      <th>T01_Da15.jpg</th>\n",
       "      <td>0</td>\n",
       "      <td>0</td>\n",
       "      <td>0</td>\n",
       "      <td>0</td>\n",
       "      <td>0</td>\n",
       "    </tr>\n",
       "    <tr>\n",
       "      <th>T01_Da16.jpg</th>\n",
       "      <td>0</td>\n",
       "      <td>0</td>\n",
       "      <td>1</td>\n",
       "      <td>0</td>\n",
       "      <td>0</td>\n",
       "    </tr>\n",
       "    <tr>\n",
       "      <th>T01_Da17.jpg</th>\n",
       "      <td>0</td>\n",
       "      <td>0</td>\n",
       "      <td>0</td>\n",
       "      <td>0</td>\n",
       "      <td>0</td>\n",
       "    </tr>\n",
       "  </tbody>\n",
       "</table>\n",
       "</div>"
      ],
      "text/plain": [
       "Unknown cell  IVT_CS  IVT_LB  IVT_LG  IVT_JS  IVT_KF\n",
       "T01_Da0.jpg        0       0       1       0       0\n",
       "T01_Da1.jpg        0       0       0       0       0\n",
       "T01_Da10.jpg       0       2       0       0       0\n",
       "T01_Da11.jpg       0       2       2       0       0\n",
       "T01_Da12.jpg       0       0       1       0       0\n",
       "T01_Da13.jpg       0       0       1       0       0\n",
       "T01_Da14.jpg       0       0       0       0       0\n",
       "T01_Da15.jpg       0       0       0       0       0\n",
       "T01_Da16.jpg       0       0       1       0       0\n",
       "T01_Da17.jpg       0       0       0       0       0"
      ]
     },
     "execution_count": 17,
     "metadata": {},
     "output_type": "execute_result"
    }
   ],
   "source": [
    "df.head(10)"
   ]
  },
  {
   "cell_type": "markdown",
   "metadata": {},
   "source": [
    "### Optional: Step 4: Retrieve a class from .csv into a DataFrame"
   ]
  },
  {
   "cell_type": "raw",
   "metadata": {},
   "source": [
    "cl = 'Monocyte'"
   ]
  },
  {
   "cell_type": "code",
   "execution_count": 18,
   "metadata": {},
   "outputs": [
    {
     "data": {
      "text/html": [
       "<div>\n",
       "<style scoped>\n",
       "    .dataframe tbody tr th:only-of-type {\n",
       "        vertical-align: middle;\n",
       "    }\n",
       "\n",
       "    .dataframe tbody tr th {\n",
       "        vertical-align: top;\n",
       "    }\n",
       "\n",
       "    .dataframe thead th {\n",
       "        text-align: right;\n",
       "    }\n",
       "</style>\n",
       "<table border=\"1\" class=\"dataframe\">\n",
       "  <thead>\n",
       "    <tr style=\"text-align: right;\">\n",
       "      <th></th>\n",
       "      <th>IVT_CS</th>\n",
       "      <th>IVT_LB</th>\n",
       "      <th>IVT_LG</th>\n",
       "      <th>IVT_JS</th>\n",
       "      <th>IVT_KF</th>\n",
       "    </tr>\n",
       "    <tr>\n",
       "      <th>Unknown cell</th>\n",
       "      <th></th>\n",
       "      <th></th>\n",
       "      <th></th>\n",
       "      <th></th>\n",
       "      <th></th>\n",
       "    </tr>\n",
       "  </thead>\n",
       "  <tbody>\n",
       "    <tr>\n",
       "      <th>T01_Da0.jpg</th>\n",
       "      <td>0</td>\n",
       "      <td>0</td>\n",
       "      <td>1</td>\n",
       "      <td>0</td>\n",
       "      <td>0</td>\n",
       "    </tr>\n",
       "    <tr>\n",
       "      <th>T01_Da1.jpg</th>\n",
       "      <td>0</td>\n",
       "      <td>0</td>\n",
       "      <td>0</td>\n",
       "      <td>0</td>\n",
       "      <td>0</td>\n",
       "    </tr>\n",
       "    <tr>\n",
       "      <th>T01_Da10.jpg</th>\n",
       "      <td>0</td>\n",
       "      <td>2</td>\n",
       "      <td>0</td>\n",
       "      <td>0</td>\n",
       "      <td>0</td>\n",
       "    </tr>\n",
       "    <tr>\n",
       "      <th>T01_Da11.jpg</th>\n",
       "      <td>0</td>\n",
       "      <td>2</td>\n",
       "      <td>2</td>\n",
       "      <td>0</td>\n",
       "      <td>0</td>\n",
       "    </tr>\n",
       "    <tr>\n",
       "      <th>T01_Da12.jpg</th>\n",
       "      <td>0</td>\n",
       "      <td>0</td>\n",
       "      <td>1</td>\n",
       "      <td>0</td>\n",
       "      <td>0</td>\n",
       "    </tr>\n",
       "  </tbody>\n",
       "</table>\n",
       "</div>"
      ],
      "text/plain": [
       "              IVT_CS  IVT_LB  IVT_LG  IVT_JS  IVT_KF\n",
       "Unknown cell                                        \n",
       "T01_Da0.jpg        0       0       1       0       0\n",
       "T01_Da1.jpg        0       0       0       0       0\n",
       "T01_Da10.jpg       0       2       0       0       0\n",
       "T01_Da11.jpg       0       2       2       0       0\n",
       "T01_Da12.jpg       0       0       1       0       0"
      ]
     },
     "execution_count": 18,
     "metadata": {},
     "output_type": "execute_result"
    }
   ],
   "source": [
    "df_cl = pd.read_csv(Path(f'../../data/IVT/IVT_{cl}.csv'), index_col=cl)\n",
    "df_cl.head()"
   ]
  },
  {
   "cell_type": "code",
   "execution_count": 19,
   "metadata": {},
   "outputs": [
    {
     "data": {
      "text/plain": [
       "200"
      ]
     },
     "execution_count": 19,
     "metadata": {},
     "output_type": "execute_result"
    }
   ],
   "source": [
    "len(df_cl)"
   ]
  },
  {
   "cell_type": "code",
   "execution_count": null,
   "metadata": {},
   "outputs": [],
   "source": []
  }
 ],
 "metadata": {
  "kernelspec": {
   "display_name": "Python (nuclei)",
   "language": "python",
   "name": "nuclei"
  },
  "language_info": {
   "codemirror_mode": {
    "name": "ipython",
    "version": 3
   },
   "file_extension": ".py",
   "mimetype": "text/x-python",
   "name": "python",
   "nbconvert_exporter": "python",
   "pygments_lexer": "ipython3",
   "version": "3.7.6"
  }
 },
 "nbformat": 4,
 "nbformat_minor": 4
}
